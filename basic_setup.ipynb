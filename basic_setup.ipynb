{
 "cells": [
  {
   "cell_type": "code",
   "execution_count": 1,
   "metadata": {
    "collapsed": false
   },
   "outputs": [],
   "source": [
    "import os\n",
    "import shutil\n",
    "import sys\n",
    "import pandas as pd\n",
    "import numpy as np\n",
    "import matplotlib.pyplot as plt"
   ]
  },
  {
   "cell_type": "code",
   "execution_count": 10,
   "metadata": {
    "collapsed": false
   },
   "outputs": [
    {
     "name": "stdout",
     "output_type": "stream",
     "text": [
      "Session1 Ses01F_impro01.txt moved.\n",
      "Writing Emotion Data to csv for Session1\n",
      "Session1 moved & wrote.\n",
      "folder structure all set up!\n",
      "plotting ...\n"
     ]
    },
    {
     "data": {
      "image/png": "[encoded data removed]",
      "text/plain": [
       "<matplotlib.figure.Figure at 0x111b447b8>"
      ]
     },
     "metadata": {},
     "output_type": "display_data"
    },
    {
     "name": "stdout",
     "output_type": "stream",
     "text": [
      "emotion category distribution plot saved!\n"
     ]
    }
   ],
   "source": [
    "def get_wav_path(filename, session, cwd):\n",
    "    \"\"\"get wav file path based on a filename (emo_data['name'].values[n])\n",
    "    \n",
    "    Args:\n",
    "    filenames(str): a wav filename from pandas dataframe.\n",
    "    cwd(str): current working directory.\n",
    "    \n",
    "    Return: \n",
    "    wav_path(str): wav file path with respect to filename.\n",
    "    \"\"\"\n",
    "    \n",
    "    setting = filename[0:-5]\n",
    "    wav_path = str(cwd) + \"/data/iemocap/IEMOCAP_full_release/\" + session + \\\n",
    "        \"/sentences/wav/\" + setting \n",
    "    \n",
    "    return wav_path\n",
    "\n",
    "\n",
    "def setup_folder_structure(emotions, cwd):\n",
    "    if not os.path.exists(\"./figures\"):\n",
    "        os.makedirs(\"./figures\")\n",
    "    else: pass\n",
    "    if not os.path.exists(cwd + \"/data/iemocap/emotions\"):\n",
    "        os.makedirs(cwd + \"/data/iemocap/emotions\")\n",
    "    else: pass\n",
    "    \n",
    "    emo_root = cwd + \"/data/iemocap/emotions\"\n",
    "    for emotion in emotions:\n",
    "        if not os.path.exists(emo_root + \"/\" + emotion):\n",
    "            os.makedirs(emo_root + \"/\" + emotion)\n",
    "        else: pass\n",
    "    \n",
    "    return emo_root\n",
    "\n",
    "def get_dict(emo_data):\n",
    "    emo_dict = dict(zip(emo_data[\"name\"].values, emo_data[\"emotion\"].values))\n",
    "    \n",
    "    return emo_dict\n",
    "\n",
    "def move_wav(wav_path, emo_root, filename, emotion):\n",
    "    src = wav_path + \"/\" + filename + \".wav\"\n",
    "    dst = emo_root + \"/\" + emotion\n",
    "    shutil.copy(src, dst)\n",
    "    return \n",
    "\n",
    "def plot_emo_num(emo_num, server=\"local\"):\n",
    "    \"\"\"plot distribution of emotion categoriy.\n",
    "    \n",
    "    Args:\n",
    "    emo_num(list): list of unique emotion\n",
    "    server(str): local - plot emotion distribution; ssh - without plotting. \n",
    "    \n",
    "    Return:\n",
    "    save (or plot) emotion categoriy plot.\n",
    "    \"\"\"\n",
    "    \n",
    "    fig, ax = plt.subplots(figsize=(10,7))\n",
    "\n",
    "    index = np.arange(len(emo_num))\n",
    "    bar_width = 0.5\n",
    "\n",
    "    rects = ax.bar(index, list(emo_num.values()), bar_width)\n",
    "\n",
    "    ax.set_xlabel('Emotion')\n",
    "    ax.set_ylabel('Count')\n",
    "    ax.set_title('Distribution of Emotions')\n",
    "    ax.set_xticks(index)\n",
    "    ax.set_xticklabels(list(emo_num.keys()))\n",
    "    ax.legend()\n",
    "    labels = list(emo_num.values())\n",
    "\n",
    "    for rect, label in zip(rects, labels):\n",
    "        height = rect.get_height()\n",
    "        ax.text(rect.get_x() + rect.get_width() / 2, height, label,\n",
    "                ha='center', va='bottom')\n",
    "    fig.tight_layout()\n",
    "    fig.savefig(\"./figures/emotion_distribution.png\")\n",
    "    if server ==\"local\":\n",
    "        plt.show()\n",
    "    elif server ==\"ssh\":\n",
    "        pass\n",
    "    else: \n",
    "        raise ValueError(\"server not defined.\")\n",
    "    \n",
    "\n",
    "def main():\n",
    "    # loop through folders\n",
    "    cwd = os.getcwd()\n",
    "    sessions = [session for session in os.listdir(cwd + \"/data/iemocap/IEMOCAP_full_release/\") \n",
    "                     if session.startswith('Session')]\n",
    "    #print(sessions)\n",
    "    for session in sessions:\n",
    "        path_txt = cwd + \"/data/iemocap/IEMOCAP_full_release/\" + session + \"/dialog/EmoEvaluation\"\n",
    "        path_wav = cwd + \"/data/iemocap/IEMOCAP_full_release/\" + session + \"/sentences/wav\"\n",
    "        filenames_txt = [txt for txt in os.listdir(path_txt) if txt.startswith('Ses') and txt.endswith('.txt')]\n",
    "        filenames_wav = [wav for wav in os.listdir(path_wav) if wav.startswith('Ses') and wav.endswith('.wav')]\n",
    "        aux_data = pd.DataFrame(columns=[\"time\", \"name\", \"emotion\",\"vad\"])\n",
    "\n",
    "        for name in filenames_txt:\n",
    "            aux = pd.read_csv(os.path.join(path_txt, name),delimiter=\"\\t\",header=0, \n",
    "                             names=[\"time\", \"name\", \"emotion\",\"vad\"])\n",
    "            aux_data = pd.concat([aux_data,aux])\n",
    "\n",
    "            # get filenames with emotion auxilary data\n",
    "            emo_data = aux_data[aux_data['name'].str.match('Ses')]\n",
    "            emotions = np.unique(emo_data['emotion'])\n",
    "            emo_root = setup_folder_structure(emotions, cwd)\n",
    "            emo_dict = get_dict(emo_data)\n",
    "            for wav in emo_dict.keys(): \n",
    "                emotion = emo_dict[wav]\n",
    "                wav_path = get_wav_path(wav, session, cwd)\n",
    "                move_wav(wav_path, emo_root, wav, emotion)\n",
    "        print(session, name,\"moved.\\nWriting Emotion Data to csv for\", session)\n",
    "        emotion_data = emo_data[[\"name\",\"emotion\"]]\n",
    "        emotion_data.to_csv(\"./Conceptor/Emotion/emotion_data.csv\") \n",
    "\n",
    "        print(session, \"moved & wrote.\")\n",
    "\n",
    "    \n",
    "if __name__ == \"__main__\":\n",
    "    main()\n",
    "    print(\"folder structure all set up!\")\n",
    "\n",
    "    print(\"plotting ...\")\n",
    "    emo_dir = \"./data/iemocap/emotions\"\n",
    "    emotions = [emotion for emotion in os.listdir(emo_dir) if not emotion.startswith('.')]\n",
    "    emo_num = {}\n",
    "    for emotion in emotions:\n",
    "        emo_num[emotion] = len(os.listdir(emo_dir + \"/\" + emotion))\n",
    "    plot_emo_num(emo_num, server=\"local\")\n",
    "    print(\"emotion category distribution plot saved!\")\n",
    "\n",
    "        \n",
    "        \n",
    "\n",
    "        "
   ]
  },
  {
   "cell_type": "code",
   "execution_count": null,
   "metadata": {
    "collapsed": false
   },
   "outputs": [],
   "source": []
  },
  {
   "cell_type": "code",
   "execution_count": 246,
   "metadata": {
    "collapsed": false,
    "scrolled": false
   },
   "outputs": [],
   "source": []
  },
  {
   "cell_type": "code",
   "execution_count": null,
   "metadata": {
    "collapsed": false,
    "scrolled": true
   },
   "outputs": [],
   "source": []
  },
  {
   "cell_type": "code",
   "execution_count": null,
   "metadata": {
    "collapsed": false
   },
   "outputs": [],
   "source": []
  },
  {
   "cell_type": "code",
   "execution_count": null,
   "metadata": {
    "collapsed": false
   },
   "outputs": [],
   "source": []
  },
  {
   "cell_type": "code",
   "execution_count": null,
   "metadata": {
    "collapsed": true
   },
   "outputs": [],
   "source": []
  }
 ],
 "metadata": {
  "kernelspec": {
   "display_name": "Python [conda env:tensorflow]",
   "language": "python",
   "name": "conda-env-tensorflow-py"
  },
  "language_info": {
   "codemirror_mode": {
    "name": "ipython",
    "version": 3
   },
   "file_extension": ".py",
   "mimetype": "text/x-python",
   "name": "python",
   "nbconvert_exporter": "python",
   "pygments_lexer": "ipython3",
   "version": "3.5.4"
  }
 },
 "nbformat": 4,
 "nbformat_minor": 0
}
