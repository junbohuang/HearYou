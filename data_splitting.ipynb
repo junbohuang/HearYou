{
 "cells": [
  {
   "cell_type": "code",
   "execution_count": 2,
   "metadata": {
    "collapsed": true
   },
   "outputs": [],
   "source": [
    "import os\n",
    "import sys\n",
    "import numpy as np"
   ]
  },
  {
   "cell_type": "code",
   "execution_count": null,
   "metadata": {
    "collapsed": true
   },
   "outputs": [],
   "source": [
    "def shuffle_in_unison_inplace(a, b):\n",
    "    \"\"\"Shuffle the arrays randomly\"\"\"\n",
    "    assert len(a) == len(b)\n",
    "    p = np.random.permutation(len(a))\n",
    "    return a[p], b[p]\n",
    "\n",
    "\n",
    "def data_shuffle(data_sets_org, percent_of_train, min_test_data=80, shuffle_data=False):\n",
    "    \"\"\"Divided the data to train and test and shuffle it\"\"\"\n",
    "    perc = lambda i, t: np.rint((i * t) / 100).astype(np.int32)\n",
    "    C = type('type_C', (object,), {})\n",
    "    data_sets = C()\n",
    "    stop_train_index = perc(percent_of_train[0], data_sets_org.data.shape[0])\n",
    "    start_test_index = stop_train_index\n",
    "    if percent_of_train > min_test_data:\n",
    "        start_test_index = perc(min_test_data, data_sets_org.data.shape[0])\n",
    "    data_sets.train = C()\n",
    "    data_sets.test = C()\n",
    "    if shuffle_data:\n",
    "        shuffled_data, shuffled_labels = shuffle_in_unison_inplace(data_sets_org.data, data_sets_org.labels)\n",
    "    else:\n",
    "        shuffled_data, shuffled_labels = data_sets_org.data, data_sets_org.labels\n",
    "    data_sets.train.data = shuffled_data[:stop_train_index, :]\n",
    "    data_sets.train.labels = shuffled_labels[:stop_train_index, :]\n",
    "    data_sets.test.data = shuffled_data[start_test_index:, :]\n",
    "    data_sets.test.labels = shuffled_labels[start_test_index:, :]\n",
    "    return data_sets\n"
   ]
  }
 ],
 "metadata": {
  "kernelspec": {
   "display_name": "Python [conda env:tensorflow]",
   "language": "python",
   "name": "conda-env-tensorflow-py"
  },
  "language_info": {
   "codemirror_mode": {
    "name": "ipython",
    "version": 3
   },
   "file_extension": ".py",
   "mimetype": "text/x-python",
   "name": "python",
   "nbconvert_exporter": "python",
   "pygments_lexer": "ipython3",
   "version": "3.5.4"
  }
 },
 "nbformat": 4,
 "nbformat_minor": 2
}
